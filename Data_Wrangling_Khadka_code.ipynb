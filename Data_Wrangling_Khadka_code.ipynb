{
 "cells": [
  {
   "cell_type": "code",
   "execution_count": 1,
   "id": "bdaefac1",
   "metadata": {},
   "outputs": [],
   "source": [
    "import pandas as pd\n",
    "import numpy as np\n",
    "from pathlib import Path"
   ]
  },
  {
   "cell_type": "code",
   "execution_count": 2,
   "id": "f05fc87e",
   "metadata": {},
   "outputs": [],
   "source": [
    "datadir = Path.cwd().parent/ \"C:/Users/skhadka3/OneDrive - University of Vermont/Documents/Data Science-I/Assignment 1\""
   ]
  },
  {
   "cell_type": "code",
   "execution_count": 3,
   "id": "e5d0206c",
   "metadata": {},
   "outputs": [
    {
     "data": {
      "text/html": [
       "<div>\n",
       "<style scoped>\n",
       "    .dataframe tbody tr th:only-of-type {\n",
       "        vertical-align: middle;\n",
       "    }\n",
       "\n",
       "    .dataframe tbody tr th {\n",
       "        vertical-align: top;\n",
       "    }\n",
       "\n",
       "    .dataframe thead th {\n",
       "        text-align: right;\n",
       "    }\n",
       "</style>\n",
       "<table border=\"1\" class=\"dataframe\">\n",
       "  <thead>\n",
       "    <tr style=\"text-align: right;\">\n",
       "      <th></th>\n",
       "      <th>business_id</th>\n",
       "      <th>name</th>\n",
       "      <th>address</th>\n",
       "      <th>city</th>\n",
       "      <th>state</th>\n",
       "      <th>postal_code</th>\n",
       "      <th>latitude</th>\n",
       "      <th>longitude</th>\n",
       "      <th>phone_number</th>\n",
       "    </tr>\n",
       "  </thead>\n",
       "  <tbody>\n",
       "    <tr>\n",
       "      <th>0</th>\n",
       "      <td>19</td>\n",
       "      <td>NRGIZE LIFESTYLE CAFE</td>\n",
       "      <td>1200 VAN NESS AVE, 3RD FLOOR</td>\n",
       "      <td>San Francisco</td>\n",
       "      <td>CA</td>\n",
       "      <td>94109</td>\n",
       "      <td>37.786848</td>\n",
       "      <td>-122.421547</td>\n",
       "      <td>+14157763262</td>\n",
       "    </tr>\n",
       "    <tr>\n",
       "      <th>1</th>\n",
       "      <td>24</td>\n",
       "      <td>OMNI S.F. HOTEL - 2ND FLOOR PANTRY</td>\n",
       "      <td>500 CALIFORNIA ST, 2ND  FLOOR</td>\n",
       "      <td>San Francisco</td>\n",
       "      <td>CA</td>\n",
       "      <td>94104</td>\n",
       "      <td>37.792888</td>\n",
       "      <td>-122.403135</td>\n",
       "      <td>+14156779494</td>\n",
       "    </tr>\n",
       "    <tr>\n",
       "      <th>2</th>\n",
       "      <td>31</td>\n",
       "      <td>NORMAN'S ICE CREAM AND FREEZES</td>\n",
       "      <td>2801 LEAVENWORTH ST</td>\n",
       "      <td>San Francisco</td>\n",
       "      <td>CA</td>\n",
       "      <td>94133</td>\n",
       "      <td>37.807155</td>\n",
       "      <td>-122.419004</td>\n",
       "      <td>NaN</td>\n",
       "    </tr>\n",
       "    <tr>\n",
       "      <th>3</th>\n",
       "      <td>45</td>\n",
       "      <td>CHARLIE'S DELI CAFE</td>\n",
       "      <td>3202 FOLSOM ST</td>\n",
       "      <td>San Francisco</td>\n",
       "      <td>CA</td>\n",
       "      <td>94110</td>\n",
       "      <td>37.747114</td>\n",
       "      <td>-122.413641</td>\n",
       "      <td>+14156415051</td>\n",
       "    </tr>\n",
       "    <tr>\n",
       "      <th>4</th>\n",
       "      <td>48</td>\n",
       "      <td>ART'S CAFE</td>\n",
       "      <td>747 IRVING ST</td>\n",
       "      <td>San Francisco</td>\n",
       "      <td>CA</td>\n",
       "      <td>94122</td>\n",
       "      <td>37.764013</td>\n",
       "      <td>-122.465749</td>\n",
       "      <td>+14156657440</td>\n",
       "    </tr>\n",
       "    <tr>\n",
       "      <th>...</th>\n",
       "      <td>...</td>\n",
       "      <td>...</td>\n",
       "      <td>...</td>\n",
       "      <td>...</td>\n",
       "      <td>...</td>\n",
       "      <td>...</td>\n",
       "      <td>...</td>\n",
       "      <td>...</td>\n",
       "      <td>...</td>\n",
       "    </tr>\n",
       "    <tr>\n",
       "      <th>6401</th>\n",
       "      <td>94544</td>\n",
       "      <td>D'MAIZE CAFE</td>\n",
       "      <td>50 PHELAN AVE</td>\n",
       "      <td>San Francisco</td>\n",
       "      <td>CA</td>\n",
       "      <td>94112</td>\n",
       "      <td>NaN</td>\n",
       "      <td>NaN</td>\n",
       "      <td>+14154240604</td>\n",
       "    </tr>\n",
       "    <tr>\n",
       "      <th>6402</th>\n",
       "      <td>94555</td>\n",
       "      <td>EASY BREEZY FROZEN YOGURT</td>\n",
       "      <td>44 WEST PORTAL AVE</td>\n",
       "      <td>San Francisco</td>\n",
       "      <td>CA</td>\n",
       "      <td>94127</td>\n",
       "      <td>NaN</td>\n",
       "      <td>NaN</td>\n",
       "      <td>+14155053351</td>\n",
       "    </tr>\n",
       "    <tr>\n",
       "      <th>6403</th>\n",
       "      <td>94571</td>\n",
       "      <td>THE PHOENIX PASTIFICIO</td>\n",
       "      <td>200 CLEMENT ST</td>\n",
       "      <td>San Francisco</td>\n",
       "      <td>CA</td>\n",
       "      <td>94118</td>\n",
       "      <td>NaN</td>\n",
       "      <td>NaN</td>\n",
       "      <td>+14154726100</td>\n",
       "    </tr>\n",
       "    <tr>\n",
       "      <th>6404</th>\n",
       "      <td>94572</td>\n",
       "      <td>BROADWAY DIM SUM CAFE</td>\n",
       "      <td>684 BROADWAY ST</td>\n",
       "      <td>San Francisco</td>\n",
       "      <td>CA</td>\n",
       "      <td>94133</td>\n",
       "      <td>NaN</td>\n",
       "      <td>NaN</td>\n",
       "      <td>NaN</td>\n",
       "    </tr>\n",
       "    <tr>\n",
       "      <th>6405</th>\n",
       "      <td>94574</td>\n",
       "      <td>BINKA BITES</td>\n",
       "      <td>2241 GEARY BLVD</td>\n",
       "      <td>San Francisco</td>\n",
       "      <td>CA</td>\n",
       "      <td>94115</td>\n",
       "      <td>NaN</td>\n",
       "      <td>NaN</td>\n",
       "      <td>+14157712907</td>\n",
       "    </tr>\n",
       "  </tbody>\n",
       "</table>\n",
       "<p>6406 rows × 9 columns</p>\n",
       "</div>"
      ],
      "text/plain": [
       "      business_id                                name  \\\n",
       "0              19               NRGIZE LIFESTYLE CAFE   \n",
       "1              24  OMNI S.F. HOTEL - 2ND FLOOR PANTRY   \n",
       "2              31      NORMAN'S ICE CREAM AND FREEZES   \n",
       "3              45                 CHARLIE'S DELI CAFE   \n",
       "4              48                          ART'S CAFE   \n",
       "...           ...                                 ...   \n",
       "6401        94544                        D'MAIZE CAFE   \n",
       "6402        94555           EASY BREEZY FROZEN YOGURT   \n",
       "6403        94571              THE PHOENIX PASTIFICIO   \n",
       "6404        94572               BROADWAY DIM SUM CAFE   \n",
       "6405        94574                         BINKA BITES   \n",
       "\n",
       "                            address           city state postal_code  \\\n",
       "0      1200 VAN NESS AVE, 3RD FLOOR  San Francisco    CA       94109   \n",
       "1     500 CALIFORNIA ST, 2ND  FLOOR  San Francisco    CA       94104   \n",
       "2              2801 LEAVENWORTH ST   San Francisco    CA       94133   \n",
       "3                   3202 FOLSOM ST   San Francisco    CA       94110   \n",
       "4                    747 IRVING ST   San Francisco    CA       94122   \n",
       "...                             ...            ...   ...         ...   \n",
       "6401                 50 PHELAN AVE   San Francisco    CA       94112   \n",
       "6402            44 WEST PORTAL AVE   San Francisco    CA       94127   \n",
       "6403                200 CLEMENT ST   San Francisco    CA       94118   \n",
       "6404               684 BROADWAY ST   San Francisco    CA       94133   \n",
       "6405               2241 GEARY BLVD   San Francisco    CA       94115   \n",
       "\n",
       "       latitude   longitude  phone_number  \n",
       "0     37.786848 -122.421547  +14157763262  \n",
       "1     37.792888 -122.403135  +14156779494  \n",
       "2     37.807155 -122.419004           NaN  \n",
       "3     37.747114 -122.413641  +14156415051  \n",
       "4     37.764013 -122.465749  +14156657440  \n",
       "...         ...         ...           ...  \n",
       "6401        NaN         NaN  +14154240604  \n",
       "6402        NaN         NaN  +14155053351  \n",
       "6403        NaN         NaN  +14154726100  \n",
       "6404        NaN         NaN           NaN  \n",
       "6405        NaN         NaN  +14157712907  \n",
       "\n",
       "[6406 rows x 9 columns]"
      ]
     },
     "execution_count": 3,
     "metadata": {},
     "output_type": "execute_result"
    }
   ],
   "source": [
    "df_businesses = pd.read_csv(datadir / 'businesses.csv')\n",
    "df_businesses"
   ]
  },
  {
   "cell_type": "code",
   "execution_count": 4,
   "id": "74fe91fe",
   "metadata": {},
   "outputs": [
    {
     "data": {
      "text/plain": [
       "(6406, 9)"
      ]
     },
     "execution_count": 4,
     "metadata": {},
     "output_type": "execute_result"
    }
   ],
   "source": [
    "#How many records (rows, excluding column headers) [0.5pt] and columns (excluding unnamed index columns) [0.5pt] are there for: businesses.csv \n",
    "df_businesses.shape"
   ]
  },
  {
   "cell_type": "code",
   "execution_count": 5,
   "id": "56697f58",
   "metadata": {},
   "outputs": [
    {
     "data": {
      "text/plain": [
       "0"
      ]
     },
     "execution_count": 5,
     "metadata": {},
     "output_type": "execute_result"
    }
   ],
   "source": [
    "#How many duplicated records are there in each file?\n",
    "df_businesses.duplicated(keep=False).sum()"
   ]
  },
  {
   "cell_type": "code",
   "execution_count": 6,
   "id": "283ff6ce",
   "metadata": {},
   "outputs": [],
   "source": [
    "#business=pd.read_csv(\"C:/Users/skhadka3/OneDrive - University of Vermont/Documents/Data Science-I/Assignment 1/businesses.csv\")\n",
    "#business"
   ]
  },
  {
   "cell_type": "code",
   "execution_count": 7,
   "id": "03cb4e21",
   "metadata": {},
   "outputs": [
    {
     "data": {
      "text/html": [
       "<div>\n",
       "<style scoped>\n",
       "    .dataframe tbody tr th:only-of-type {\n",
       "        vertical-align: middle;\n",
       "    }\n",
       "\n",
       "    .dataframe tbody tr th {\n",
       "        vertical-align: top;\n",
       "    }\n",
       "\n",
       "    .dataframe thead th {\n",
       "        text-align: right;\n",
       "    }\n",
       "</style>\n",
       "<table border=\"1\" class=\"dataframe\">\n",
       "  <thead>\n",
       "    <tr style=\"text-align: right;\">\n",
       "      <th></th>\n",
       "      <th>business_id</th>\n",
       "      <th>score</th>\n",
       "      <th>date</th>\n",
       "      <th>type</th>\n",
       "    </tr>\n",
       "  </thead>\n",
       "  <tbody>\n",
       "    <tr>\n",
       "      <th>0</th>\n",
       "      <td>19</td>\n",
       "      <td>94</td>\n",
       "      <td>20160513</td>\n",
       "      <td>routine</td>\n",
       "    </tr>\n",
       "    <tr>\n",
       "      <th>1</th>\n",
       "      <td>19</td>\n",
       "      <td>94</td>\n",
       "      <td>20171211</td>\n",
       "      <td>routine</td>\n",
       "    </tr>\n",
       "    <tr>\n",
       "      <th>2</th>\n",
       "      <td>24</td>\n",
       "      <td>98</td>\n",
       "      <td>20171101</td>\n",
       "      <td>routine</td>\n",
       "    </tr>\n",
       "    <tr>\n",
       "      <th>3</th>\n",
       "      <td>24</td>\n",
       "      <td>98</td>\n",
       "      <td>20161005</td>\n",
       "      <td>routine</td>\n",
       "    </tr>\n",
       "    <tr>\n",
       "      <th>4</th>\n",
       "      <td>24</td>\n",
       "      <td>96</td>\n",
       "      <td>20160311</td>\n",
       "      <td>routine</td>\n",
       "    </tr>\n",
       "    <tr>\n",
       "      <th>...</th>\n",
       "      <td>...</td>\n",
       "      <td>...</td>\n",
       "      <td>...</td>\n",
       "      <td>...</td>\n",
       "    </tr>\n",
       "    <tr>\n",
       "      <th>14217</th>\n",
       "      <td>94012</td>\n",
       "      <td>90</td>\n",
       "      <td>20180112</td>\n",
       "      <td>routine</td>\n",
       "    </tr>\n",
       "    <tr>\n",
       "      <th>14218</th>\n",
       "      <td>94133</td>\n",
       "      <td>100</td>\n",
       "      <td>20171227</td>\n",
       "      <td>routine</td>\n",
       "    </tr>\n",
       "    <tr>\n",
       "      <th>14219</th>\n",
       "      <td>94142</td>\n",
       "      <td>100</td>\n",
       "      <td>20171220</td>\n",
       "      <td>routine</td>\n",
       "    </tr>\n",
       "    <tr>\n",
       "      <th>14220</th>\n",
       "      <td>94189</td>\n",
       "      <td>96</td>\n",
       "      <td>20171130</td>\n",
       "      <td>routine</td>\n",
       "    </tr>\n",
       "    <tr>\n",
       "      <th>14221</th>\n",
       "      <td>94231</td>\n",
       "      <td>85</td>\n",
       "      <td>20171214</td>\n",
       "      <td>routine</td>\n",
       "    </tr>\n",
       "  </tbody>\n",
       "</table>\n",
       "<p>14222 rows × 4 columns</p>\n",
       "</div>"
      ],
      "text/plain": [
       "       business_id  score      date     type\n",
       "0               19     94  20160513  routine\n",
       "1               19     94  20171211  routine\n",
       "2               24     98  20171101  routine\n",
       "3               24     98  20161005  routine\n",
       "4               24     96  20160311  routine\n",
       "...            ...    ...       ...      ...\n",
       "14217        94012     90  20180112  routine\n",
       "14218        94133    100  20171227  routine\n",
       "14219        94142    100  20171220  routine\n",
       "14220        94189     96  20171130  routine\n",
       "14221        94231     85  20171214  routine\n",
       "\n",
       "[14222 rows x 4 columns]"
      ]
     },
     "execution_count": 7,
     "metadata": {},
     "output_type": "execute_result"
    }
   ],
   "source": [
    "df_inspections=pd.read_csv(datadir/'inspections.csv')\n",
    "df_inspections"
   ]
  },
  {
   "cell_type": "code",
   "execution_count": 8,
   "id": "896b369f",
   "metadata": {
    "scrolled": true
   },
   "outputs": [
    {
     "data": {
      "text/plain": [
       "(14222, 4)"
      ]
     },
     "execution_count": 8,
     "metadata": {},
     "output_type": "execute_result"
    }
   ],
   "source": [
    "#How many records (rows, excluding column headers) [0.5pt] and columns (excluding unnamed index columns) [0.5pt] are there for: inspections.csv \n",
    "df_inspections.shape"
   ]
  },
  {
   "cell_type": "code",
   "execution_count": 9,
   "id": "68ed55df",
   "metadata": {},
   "outputs": [
    {
     "data": {
      "text/plain": [
       "2"
      ]
     },
     "execution_count": 9,
     "metadata": {},
     "output_type": "execute_result"
    }
   ],
   "source": [
    "#How many duplicated records are there in each file?\n",
    "df_inspections.duplicated(keep=False).sum()"
   ]
  },
  {
   "cell_type": "code",
   "execution_count": 10,
   "id": "6c00b350",
   "metadata": {},
   "outputs": [
    {
     "data": {
      "text/html": [
       "<div>\n",
       "<style scoped>\n",
       "    .dataframe tbody tr th:only-of-type {\n",
       "        vertical-align: middle;\n",
       "    }\n",
       "\n",
       "    .dataframe tbody tr th {\n",
       "        vertical-align: top;\n",
       "    }\n",
       "\n",
       "    .dataframe thead th {\n",
       "        text-align: right;\n",
       "    }\n",
       "</style>\n",
       "<table border=\"1\" class=\"dataframe\">\n",
       "  <thead>\n",
       "    <tr style=\"text-align: right;\">\n",
       "      <th></th>\n",
       "      <th>business_id</th>\n",
       "      <th>date</th>\n",
       "      <th>description</th>\n",
       "    </tr>\n",
       "  </thead>\n",
       "  <tbody>\n",
       "    <tr>\n",
       "      <th>0</th>\n",
       "      <td>19</td>\n",
       "      <td>20171211</td>\n",
       "      <td>Inadequate food safety knowledge or lack of ce...</td>\n",
       "    </tr>\n",
       "    <tr>\n",
       "      <th>1</th>\n",
       "      <td>19</td>\n",
       "      <td>20171211</td>\n",
       "      <td>Unapproved or unmaintained equipment or utensils</td>\n",
       "    </tr>\n",
       "    <tr>\n",
       "      <th>2</th>\n",
       "      <td>19</td>\n",
       "      <td>20160513</td>\n",
       "      <td>Unapproved or unmaintained equipment or utensi...</td>\n",
       "    </tr>\n",
       "    <tr>\n",
       "      <th>3</th>\n",
       "      <td>19</td>\n",
       "      <td>20160513</td>\n",
       "      <td>Unclean or degraded floors walls or ceilings  ...</td>\n",
       "    </tr>\n",
       "    <tr>\n",
       "      <th>4</th>\n",
       "      <td>19</td>\n",
       "      <td>20160513</td>\n",
       "      <td>Food safety certificate or food handler card n...</td>\n",
       "    </tr>\n",
       "    <tr>\n",
       "      <th>...</th>\n",
       "      <td>...</td>\n",
       "      <td>...</td>\n",
       "      <td>...</td>\n",
       "    </tr>\n",
       "    <tr>\n",
       "      <th>39037</th>\n",
       "      <td>94189</td>\n",
       "      <td>20171130</td>\n",
       "      <td>Insufficient hot water or running water</td>\n",
       "    </tr>\n",
       "    <tr>\n",
       "      <th>39038</th>\n",
       "      <td>94231</td>\n",
       "      <td>20171214</td>\n",
       "      <td>Unclean nonfood contact surfaces  [ date viola...</td>\n",
       "    </tr>\n",
       "    <tr>\n",
       "      <th>39039</th>\n",
       "      <td>94231</td>\n",
       "      <td>20171214</td>\n",
       "      <td>High risk vermin infestation  [ date violation...</td>\n",
       "    </tr>\n",
       "    <tr>\n",
       "      <th>39040</th>\n",
       "      <td>94231</td>\n",
       "      <td>20171214</td>\n",
       "      <td>Moderate risk food holding temperature   [ dat...</td>\n",
       "    </tr>\n",
       "    <tr>\n",
       "      <th>39041</th>\n",
       "      <td>94231</td>\n",
       "      <td>20171214</td>\n",
       "      <td>Wiping cloths not clean or properly stored or ...</td>\n",
       "    </tr>\n",
       "  </tbody>\n",
       "</table>\n",
       "<p>39042 rows × 3 columns</p>\n",
       "</div>"
      ],
      "text/plain": [
       "       business_id      date  \\\n",
       "0               19  20171211   \n",
       "1               19  20171211   \n",
       "2               19  20160513   \n",
       "3               19  20160513   \n",
       "4               19  20160513   \n",
       "...            ...       ...   \n",
       "39037        94189  20171130   \n",
       "39038        94231  20171214   \n",
       "39039        94231  20171214   \n",
       "39040        94231  20171214   \n",
       "39041        94231  20171214   \n",
       "\n",
       "                                             description  \n",
       "0      Inadequate food safety knowledge or lack of ce...  \n",
       "1       Unapproved or unmaintained equipment or utensils  \n",
       "2      Unapproved or unmaintained equipment or utensi...  \n",
       "3      Unclean or degraded floors walls or ceilings  ...  \n",
       "4      Food safety certificate or food handler card n...  \n",
       "...                                                  ...  \n",
       "39037            Insufficient hot water or running water  \n",
       "39038  Unclean nonfood contact surfaces  [ date viola...  \n",
       "39039  High risk vermin infestation  [ date violation...  \n",
       "39040  Moderate risk food holding temperature   [ dat...  \n",
       "39041  Wiping cloths not clean or properly stored or ...  \n",
       "\n",
       "[39042 rows x 3 columns]"
      ]
     },
     "execution_count": 10,
     "metadata": {},
     "output_type": "execute_result"
    }
   ],
   "source": [
    "df_violations=pd.read_csv(datadir/'violations.csv')\n",
    "df_violations"
   ]
  },
  {
   "cell_type": "code",
   "execution_count": 11,
   "id": "4b6706b1",
   "metadata": {},
   "outputs": [
    {
     "data": {
      "text/plain": [
       "(39042, 3)"
      ]
     },
     "execution_count": 11,
     "metadata": {},
     "output_type": "execute_result"
    }
   ],
   "source": [
    "#How many records (rows, excluding column headers) [0.5pt] and columns (excluding unnamed index columns) [0.5pt] are there for: violations.csv \n",
    "df_violations.shape\n",
    "#df_violations.nunique()"
   ]
  },
  {
   "cell_type": "code",
   "execution_count": 12,
   "id": "d75d8597",
   "metadata": {},
   "outputs": [
    {
     "data": {
      "text/plain": [
       "26"
      ]
     },
     "execution_count": 12,
     "metadata": {},
     "output_type": "execute_result"
    }
   ],
   "source": [
    "#How many duplicated records are there in each file?\n",
    "df_violations.duplicated(keep=False).sum()"
   ]
  },
  {
   "cell_type": "code",
   "execution_count": 13,
   "id": "63301eea",
   "metadata": {},
   "outputs": [
    {
     "data": {
      "text/plain": [
       "6406"
      ]
     },
     "execution_count": 13,
     "metadata": {},
     "output_type": "execute_result"
    }
   ],
   "source": [
    "#Each business_id in this dataset corresponds to a “restaurant” for all intents and purposes. How many restaurants are in:businesses.csv\n",
    "\n",
    "df_businesses['business_id'].nunique()\n"
   ]
  },
  {
   "cell_type": "code",
   "execution_count": 14,
   "id": "03f0da49",
   "metadata": {},
   "outputs": [
    {
     "data": {
      "text/plain": [
       "5766"
      ]
     },
     "execution_count": 14,
     "metadata": {},
     "output_type": "execute_result"
    }
   ],
   "source": [
    "#Each business_id in this dataset corresponds to a “restaurant” for all intents and purposes. How many restaurants are in:inspections.csv\n",
    "df_inspections['business_id'].nunique()"
   ]
  },
  {
   "cell_type": "code",
   "execution_count": 15,
   "id": "7446c3a9",
   "metadata": {},
   "outputs": [
    {
     "data": {
      "text/plain": [
       "5317"
      ]
     },
     "execution_count": 15,
     "metadata": {},
     "output_type": "execute_result"
    }
   ],
   "source": [
    "#Each business_id in this dataset corresponds to a “restaurant” for all intents and purposes. How many restaurants are in:violations.csv\n",
    "df_violations['business_id'].nunique()"
   ]
  },
  {
   "cell_type": "code",
   "execution_count": 16,
   "id": "bb4757e9",
   "metadata": {},
   "outputs": [
    {
     "data": {
      "text/plain": [
       "STARBUCKS COFFEE       73\n",
       "PEET'S COFFEE & TEA    25\n",
       "MCDONALDS              13\n",
       "LEE'S DELI             10\n",
       "JAMBA JUICE            10\n",
       "Name: name, dtype: int64"
      ]
     },
     "execution_count": 16,
     "metadata": {},
     "output_type": "execute_result"
    }
   ],
   "source": [
    "#What are the top 5 restaurant names (values under the column name) with the most records in the file businesses.csv, and how many records does each one have? Present your result as a table. \n",
    "df_businesses['name'].value_counts().head()"
   ]
  },
  {
   "cell_type": "code",
   "execution_count": 17,
   "id": "f2065bdf",
   "metadata": {},
   "outputs": [
    {
     "data": {
      "text/plain": [
       "24 WILLIE MAYS PLAZA      124\n",
       " OFF THE GRID              79\n",
       "428 11TH ST                37\n",
       "2948 FOLSOM ST             25\n",
       "3251 20TH AVE              22\n",
       "Name: address, dtype: int64"
      ]
     },
     "execution_count": 17,
     "metadata": {},
     "output_type": "execute_result"
    }
   ],
   "source": [
    "#What are the top 5 addresses (values in the address column) that host the largest number of restaurants, and how many restaurants does each one host? \n",
    "df_businesses['address'].value_counts().head()"
   ]
  },
  {
   "cell_type": "code",
   "execution_count": 18,
   "id": "ce17176f",
   "metadata": {},
   "outputs": [],
   "source": [
    "####And how many restaurants does each one host? \n",
    "#df_businesses[['address','name']].value_counts().head()"
   ]
  },
  {
   "cell_type": "code",
   "execution_count": 19,
   "id": "2edfafbb",
   "metadata": {},
   "outputs": [
    {
     "data": {
      "text/plain": [
       "1"
      ]
     },
     "execution_count": 19,
     "metadata": {},
     "output_type": "execute_result"
    }
   ],
   "source": [
    "#How many cities are included in the dataset? \n",
    "df_businesses['city'].nunique()"
   ]
  },
  {
   "cell_type": "code",
   "execution_count": 20,
   "id": "175f67ee",
   "metadata": {},
   "outputs": [
    {
     "data": {
      "text/plain": [
       "243"
      ]
     },
     "execution_count": 20,
     "metadata": {},
     "output_type": "execute_result"
    }
   ],
   "source": [
    "#How many restaurants are in postal code 94115? \n",
    "len(df_businesses[df_businesses['postal_code']=='94115'])\n",
    "#df_businesses[df_businesses['postal_code']=='94115'].nunique()#reset_index()\n"
   ]
  },
  {
   "cell_type": "code",
   "execution_count": 21,
   "id": "14e3b7e3",
   "metadata": {},
   "outputs": [
    {
     "data": {
      "text/plain": [
       "latitude     3136\n",
       "longitude    3136\n",
       "dtype: int64"
      ]
     },
     "execution_count": 21,
     "metadata": {},
     "output_type": "execute_result"
    }
   ],
   "source": [
    "#How many restaurants lack latitude and longitude information? \n",
    "df_businesses[['latitude','longitude']].isna().sum()"
   ]
  },
  {
   "cell_type": "code",
   "execution_count": 22,
   "id": "0af52c07",
   "metadata": {},
   "outputs": [
    {
     "data": {
      "text/html": [
       "<div>\n",
       "<style scoped>\n",
       "    .dataframe tbody tr th:only-of-type {\n",
       "        vertical-align: middle;\n",
       "    }\n",
       "\n",
       "    .dataframe tbody tr th {\n",
       "        vertical-align: top;\n",
       "    }\n",
       "\n",
       "    .dataframe thead th {\n",
       "        text-align: right;\n",
       "    }\n",
       "</style>\n",
       "<table border=\"1\" class=\"dataframe\">\n",
       "  <thead>\n",
       "    <tr style=\"text-align: right;\">\n",
       "      <th></th>\n",
       "      <th>business_id</th>\n",
       "      <th>name</th>\n",
       "      <th>address</th>\n",
       "      <th>city</th>\n",
       "      <th>state</th>\n",
       "      <th>postal_code</th>\n",
       "      <th>latitude</th>\n",
       "      <th>longitude</th>\n",
       "      <th>phone_number</th>\n",
       "    </tr>\n",
       "  </thead>\n",
       "  <tbody>\n",
       "    <tr>\n",
       "      <th>178</th>\n",
       "      <td>821</td>\n",
       "      <td>LA SANTANECA</td>\n",
       "      <td>3781 MISSION ST</td>\n",
       "      <td>San Francisco</td>\n",
       "      <td>CA</td>\n",
       "      <td>94110</td>\n",
       "      <td>NaN</td>\n",
       "      <td>NaN</td>\n",
       "      <td>+14156481034</td>\n",
       "    </tr>\n",
       "    <tr>\n",
       "      <th>187</th>\n",
       "      <td>852</td>\n",
       "      <td>NEW HOLLYWOOD BAKERY &amp; RESTAURANT</td>\n",
       "      <td>652 PACIFIC AVE</td>\n",
       "      <td>San Francisco</td>\n",
       "      <td>CA</td>\n",
       "      <td>94133</td>\n",
       "      <td>NaN</td>\n",
       "      <td>NaN</td>\n",
       "      <td>+14153979919</td>\n",
       "    </tr>\n",
       "    <tr>\n",
       "      <th>697</th>\n",
       "      <td>2934</td>\n",
       "      <td>LOU'S FISH SHACK</td>\n",
       "      <td>300 JEFFERSON ST</td>\n",
       "      <td>San Francisco</td>\n",
       "      <td>CA</td>\n",
       "      <td>94133</td>\n",
       "      <td>NaN</td>\n",
       "      <td>NaN</td>\n",
       "      <td>+14157715687</td>\n",
       "    </tr>\n",
       "    <tr>\n",
       "      <th>1004</th>\n",
       "      <td>4323</td>\n",
       "      <td>DIVA'S</td>\n",
       "      <td>1081 POST ST</td>\n",
       "      <td>San Francisco</td>\n",
       "      <td>CA</td>\n",
       "      <td>94109</td>\n",
       "      <td>NaN</td>\n",
       "      <td>NaN</td>\n",
       "      <td>+14154743482</td>\n",
       "    </tr>\n",
       "    <tr>\n",
       "      <th>1235</th>\n",
       "      <td>5281</td>\n",
       "      <td>EVA'S CATERING</td>\n",
       "      <td>PIER 45</td>\n",
       "      <td>San Francisco</td>\n",
       "      <td>CA</td>\n",
       "      <td>94122</td>\n",
       "      <td>NaN</td>\n",
       "      <td>NaN</td>\n",
       "      <td>+14158281026</td>\n",
       "    </tr>\n",
       "    <tr>\n",
       "      <th>...</th>\n",
       "      <td>...</td>\n",
       "      <td>...</td>\n",
       "      <td>...</td>\n",
       "      <td>...</td>\n",
       "      <td>...</td>\n",
       "      <td>...</td>\n",
       "      <td>...</td>\n",
       "      <td>...</td>\n",
       "      <td>...</td>\n",
       "    </tr>\n",
       "    <tr>\n",
       "      <th>6401</th>\n",
       "      <td>94544</td>\n",
       "      <td>D'MAIZE CAFE</td>\n",
       "      <td>50 PHELAN AVE</td>\n",
       "      <td>San Francisco</td>\n",
       "      <td>CA</td>\n",
       "      <td>94112</td>\n",
       "      <td>NaN</td>\n",
       "      <td>NaN</td>\n",
       "      <td>+14154240604</td>\n",
       "    </tr>\n",
       "    <tr>\n",
       "      <th>6402</th>\n",
       "      <td>94555</td>\n",
       "      <td>EASY BREEZY FROZEN YOGURT</td>\n",
       "      <td>44 WEST PORTAL AVE</td>\n",
       "      <td>San Francisco</td>\n",
       "      <td>CA</td>\n",
       "      <td>94127</td>\n",
       "      <td>NaN</td>\n",
       "      <td>NaN</td>\n",
       "      <td>+14155053351</td>\n",
       "    </tr>\n",
       "    <tr>\n",
       "      <th>6403</th>\n",
       "      <td>94571</td>\n",
       "      <td>THE PHOENIX PASTIFICIO</td>\n",
       "      <td>200 CLEMENT ST</td>\n",
       "      <td>San Francisco</td>\n",
       "      <td>CA</td>\n",
       "      <td>94118</td>\n",
       "      <td>NaN</td>\n",
       "      <td>NaN</td>\n",
       "      <td>+14154726100</td>\n",
       "    </tr>\n",
       "    <tr>\n",
       "      <th>6404</th>\n",
       "      <td>94572</td>\n",
       "      <td>BROADWAY DIM SUM CAFE</td>\n",
       "      <td>684 BROADWAY ST</td>\n",
       "      <td>San Francisco</td>\n",
       "      <td>CA</td>\n",
       "      <td>94133</td>\n",
       "      <td>NaN</td>\n",
       "      <td>NaN</td>\n",
       "      <td>NaN</td>\n",
       "    </tr>\n",
       "    <tr>\n",
       "      <th>6405</th>\n",
       "      <td>94574</td>\n",
       "      <td>BINKA BITES</td>\n",
       "      <td>2241 GEARY BLVD</td>\n",
       "      <td>San Francisco</td>\n",
       "      <td>CA</td>\n",
       "      <td>94115</td>\n",
       "      <td>NaN</td>\n",
       "      <td>NaN</td>\n",
       "      <td>+14157712907</td>\n",
       "    </tr>\n",
       "  </tbody>\n",
       "</table>\n",
       "<p>3136 rows × 9 columns</p>\n",
       "</div>"
      ],
      "text/plain": [
       "      business_id                               name              address  \\\n",
       "178           821                       LA SANTANECA     3781 MISSION ST    \n",
       "187           852  NEW HOLLYWOOD BAKERY & RESTAURANT     652 PACIFIC AVE    \n",
       "697          2934                   LOU'S FISH SHACK    300 JEFFERSON ST    \n",
       "1004         4323                             DIVA'S        1081 POST ST    \n",
       "1235         5281                     EVA'S CATERING            PIER 45     \n",
       "...           ...                                ...                  ...   \n",
       "6401        94544                       D'MAIZE CAFE       50 PHELAN AVE    \n",
       "6402        94555          EASY BREEZY FROZEN YOGURT  44 WEST PORTAL AVE    \n",
       "6403        94571             THE PHOENIX PASTIFICIO      200 CLEMENT ST    \n",
       "6404        94572              BROADWAY DIM SUM CAFE     684 BROADWAY ST    \n",
       "6405        94574                        BINKA BITES     2241 GEARY BLVD    \n",
       "\n",
       "               city state postal_code  latitude  longitude  phone_number  \n",
       "178   San Francisco    CA       94110       NaN        NaN  +14156481034  \n",
       "187   San Francisco    CA       94133       NaN        NaN  +14153979919  \n",
       "697   San Francisco    CA       94133       NaN        NaN  +14157715687  \n",
       "1004  San Francisco    CA       94109       NaN        NaN  +14154743482  \n",
       "1235  San Francisco    CA       94122       NaN        NaN  +14158281026  \n",
       "...             ...   ...         ...       ...        ...           ...  \n",
       "6401  San Francisco    CA       94112       NaN        NaN  +14154240604  \n",
       "6402  San Francisco    CA       94127       NaN        NaN  +14155053351  \n",
       "6403  San Francisco    CA       94118       NaN        NaN  +14154726100  \n",
       "6404  San Francisco    CA       94133       NaN        NaN           NaN  \n",
       "6405  San Francisco    CA       94115       NaN        NaN  +14157712907  \n",
       "\n",
       "[3136 rows x 9 columns]"
      ]
     },
     "execution_count": 22,
     "metadata": {},
     "output_type": "execute_result"
    }
   ],
   "source": [
    "#How many restaurants lack latitude or longitude information? \n",
    "missing_lat_long=df_businesses[(df_businesses['latitude'].isna()) | (df_businesses['longitude'].isna())]\n",
    "missing_lat_long"
   ]
  },
  {
   "cell_type": "code",
   "execution_count": 23,
   "id": "90fb25c6",
   "metadata": {},
   "outputs": [
    {
     "data": {
      "text/plain": [
       "0"
      ]
     },
     "execution_count": 23,
     "metadata": {},
     "output_type": "execute_result"
    }
   ],
   "source": [
    "#Do all of the records in the violations data have a description of the violation? \n",
    "df_violations['description'].isna().sum()"
   ]
  },
  {
   "cell_type": "code",
   "execution_count": 24,
   "id": "7da03397",
   "metadata": {},
   "outputs": [
    {
     "data": {
      "text/plain": [
       "5766"
      ]
     },
     "execution_count": 24,
     "metadata": {},
     "output_type": "execute_result"
    }
   ],
   "source": [
    "#How many restaurants are in the business information file and have inspection data? \n",
    "df_merge = df_businesses.merge(df_inspections, on ='business_id', how='inner')\n",
    "df_merge['business_id'].nunique()"
   ]
  },
  {
   "cell_type": "code",
   "execution_count": 25,
   "id": "01b54c0f",
   "metadata": {},
   "outputs": [
    {
     "data": {
      "text/plain": [
       "0"
      ]
     },
     "execution_count": 25,
     "metadata": {},
     "output_type": "execute_result"
    }
   ],
   "source": [
    "#How many restaurants have reported violations but whose names are unknown?\n",
    "#df_merge_left_indicator = df_violations.merge(df_businesses, on='business_id', how='left', indicator=True)\n",
    "#df_merge_left_indicator[df_merge_left_indicator['_merge'] == 'left_only']\n",
    "\n",
    "df_merge_left_indicator=df_violations.merge(df_businesses, on='business_id', how='left', indicator=True)\n",
    "df_merge_left_indicator['name'].isna().sum()\n",
    "#OR df_merge_left_indicator\n",
    "#df_merge_left_indicator['_merge'].value_counts()"
   ]
  },
  {
   "cell_type": "code",
   "execution_count": 26,
   "id": "09fcdd16",
   "metadata": {},
   "outputs": [
    {
     "data": {
      "text/plain": [
       "both          113276\n",
       "left_only         18\n",
       "right_only         0\n",
       "Name: _merge, dtype: int64"
      ]
     },
     "execution_count": 26,
     "metadata": {},
     "output_type": "execute_result"
    }
   ],
   "source": [
    "#How many restaurants have reported violations but have no inspection data? \n",
    "df_merge_left_indicator=df_violations.merge(df_inspections, on='business_id', how='left', indicator=True)\n",
    "df_merge_left_indicator\n",
    "df_merge_left_indicator['_merge'].value_counts()"
   ]
  },
  {
   "cell_type": "code",
   "execution_count": 27,
   "id": "afd266e5",
   "metadata": {},
   "outputs": [
    {
     "data": {
      "text/html": [
       "<div>\n",
       "<style scoped>\n",
       "    .dataframe tbody tr th:only-of-type {\n",
       "        vertical-align: middle;\n",
       "    }\n",
       "\n",
       "    .dataframe tbody tr th {\n",
       "        vertical-align: top;\n",
       "    }\n",
       "\n",
       "    .dataframe thead th {\n",
       "        text-align: right;\n",
       "    }\n",
       "</style>\n",
       "<table border=\"1\" class=\"dataframe\">\n",
       "  <thead>\n",
       "    <tr style=\"text-align: right;\">\n",
       "      <th></th>\n",
       "      <th>business_id</th>\n",
       "      <th>num_inspections</th>\n",
       "      <th>highest_score</th>\n",
       "    </tr>\n",
       "  </thead>\n",
       "  <tbody>\n",
       "    <tr>\n",
       "      <th>0</th>\n",
       "      <td>19</td>\n",
       "      <td>2</td>\n",
       "      <td>94.0</td>\n",
       "    </tr>\n",
       "    <tr>\n",
       "      <th>1</th>\n",
       "      <td>24</td>\n",
       "      <td>3</td>\n",
       "      <td>98.0</td>\n",
       "    </tr>\n",
       "    <tr>\n",
       "      <th>2</th>\n",
       "      <td>31</td>\n",
       "      <td>1</td>\n",
       "      <td>98.0</td>\n",
       "    </tr>\n",
       "    <tr>\n",
       "      <th>3</th>\n",
       "      <td>45</td>\n",
       "      <td>4</td>\n",
       "      <td>88.0</td>\n",
       "    </tr>\n",
       "    <tr>\n",
       "      <th>4</th>\n",
       "      <td>48</td>\n",
       "      <td>1</td>\n",
       "      <td>94.0</td>\n",
       "    </tr>\n",
       "    <tr>\n",
       "      <th>...</th>\n",
       "      <td>...</td>\n",
       "      <td>...</td>\n",
       "      <td>...</td>\n",
       "    </tr>\n",
       "    <tr>\n",
       "      <th>6401</th>\n",
       "      <td>94544</td>\n",
       "      <td>1</td>\n",
       "      <td>NaN</td>\n",
       "    </tr>\n",
       "    <tr>\n",
       "      <th>6402</th>\n",
       "      <td>94555</td>\n",
       "      <td>1</td>\n",
       "      <td>NaN</td>\n",
       "    </tr>\n",
       "    <tr>\n",
       "      <th>6403</th>\n",
       "      <td>94571</td>\n",
       "      <td>1</td>\n",
       "      <td>NaN</td>\n",
       "    </tr>\n",
       "    <tr>\n",
       "      <th>6404</th>\n",
       "      <td>94572</td>\n",
       "      <td>1</td>\n",
       "      <td>NaN</td>\n",
       "    </tr>\n",
       "    <tr>\n",
       "      <th>6405</th>\n",
       "      <td>94574</td>\n",
       "      <td>1</td>\n",
       "      <td>NaN</td>\n",
       "    </tr>\n",
       "  </tbody>\n",
       "</table>\n",
       "<p>6406 rows × 3 columns</p>\n",
       "</div>"
      ],
      "text/plain": [
       "      business_id  num_inspections  highest_score\n",
       "0              19                2           94.0\n",
       "1              24                3           98.0\n",
       "2              31                1           98.0\n",
       "3              45                4           88.0\n",
       "4              48                1           94.0\n",
       "...           ...              ...            ...\n",
       "6401        94544                1            NaN\n",
       "6402        94555                1            NaN\n",
       "6403        94571                1            NaN\n",
       "6404        94572                1            NaN\n",
       "6405        94574                1            NaN\n",
       "\n",
       "[6406 rows x 3 columns]"
      ]
     },
     "execution_count": 27,
     "metadata": {},
     "output_type": "execute_result"
    }
   ],
   "source": [
    "#For every restaurant with inspection data, generate a single table where each restaurant is represented by a row, and where \n",
    "#(a) the number of times it had an inspection [1pt] \n",
    "#and(b) its highest inspection score [1pt] are included as columns. \n",
    "#What value does it give for restaurants with IDs: 5634 and 2420? \n",
    "import pandas as pd\n",
    "df_merge_outer=pd.merge(df_businesses,df_inspections, on='business_id', how='outer')\n",
    "df_merge_outer\n",
    "df_new_inspections=df_merge_outer.groupby('business_id').agg(num_inspections=('business_id','size'),\n",
    "                                                             highest_score=('score','max')).reset_index()#.size().reset_index(name='num_inspections')\n",
    "df_new_inspections\n",
    "#df_merge.groupby('business_id').agg{name': (lambda x :x.nunique())})\n",
    "#inspections_num=df_violations['business_id'].value_counts().reset_index()\n",
    "#inspections_num.columns['business_id', 'inspections_num']\n",
    "#restaurant_summary = df_inspections.groupby('business_id').size().reset_index(name='num_inspections')\n",
    "#restaurant_summary"
   ]
  },
  {
   "cell_type": "code",
   "execution_count": 28,
   "id": "4bb1f90a",
   "metadata": {},
   "outputs": [
    {
     "data": {
      "text/html": [
       "<div>\n",
       "<style scoped>\n",
       "    .dataframe tbody tr th:only-of-type {\n",
       "        vertical-align: middle;\n",
       "    }\n",
       "\n",
       "    .dataframe tbody tr th {\n",
       "        vertical-align: top;\n",
       "    }\n",
       "\n",
       "    .dataframe thead th {\n",
       "        text-align: right;\n",
       "    }\n",
       "</style>\n",
       "<table border=\"1\" class=\"dataframe\">\n",
       "  <thead>\n",
       "    <tr style=\"text-align: right;\">\n",
       "      <th></th>\n",
       "      <th>business_id</th>\n",
       "      <th>num_inspections</th>\n",
       "      <th>highest_score</th>\n",
       "    </tr>\n",
       "  </thead>\n",
       "  <tbody>\n",
       "    <tr>\n",
       "      <th>564</th>\n",
       "      <td>2420</td>\n",
       "      <td>6</td>\n",
       "      <td>96.0</td>\n",
       "    </tr>\n",
       "    <tr>\n",
       "      <th>1349</th>\n",
       "      <td>5634</td>\n",
       "      <td>8</td>\n",
       "      <td>100.0</td>\n",
       "    </tr>\n",
       "  </tbody>\n",
       "</table>\n",
       "</div>"
      ],
      "text/plain": [
       "      business_id  num_inspections  highest_score\n",
       "564          2420                6           96.0\n",
       "1349         5634                8          100.0"
      ]
     },
     "execution_count": 28,
     "metadata": {},
     "output_type": "execute_result"
    }
   ],
   "source": [
    "df_new_inspections[df_new_inspections['business_id'].isin([5634,2420])]\n",
    "#.isin() is a convenient way to filter rows based on multiple possible values in a column. It's commonly used for data filtering and selection tasks in pandas."
   ]
  },
  {
   "cell_type": "code",
   "execution_count": 29,
   "id": "da3074ca",
   "metadata": {},
   "outputs": [
    {
     "data": {
      "text/html": [
       "<div>\n",
       "<style scoped>\n",
       "    .dataframe tbody tr th:only-of-type {\n",
       "        vertical-align: middle;\n",
       "    }\n",
       "\n",
       "    .dataframe tbody tr th {\n",
       "        vertical-align: top;\n",
       "    }\n",
       "\n",
       "    .dataframe thead th {\n",
       "        text-align: right;\n",
       "    }\n",
       "</style>\n",
       "<table border=\"1\" class=\"dataframe\">\n",
       "  <thead>\n",
       "    <tr style=\"text-align: right;\">\n",
       "      <th></th>\n",
       "      <th>business_id</th>\n",
       "      <th>score</th>\n",
       "      <th>date</th>\n",
       "      <th>type</th>\n",
       "      <th>Rating</th>\n",
       "    </tr>\n",
       "  </thead>\n",
       "  <tbody>\n",
       "    <tr>\n",
       "      <th>13</th>\n",
       "      <td>56</td>\n",
       "      <td>90</td>\n",
       "      <td>20160802</td>\n",
       "      <td>routine</td>\n",
       "      <td>Adequate</td>\n",
       "    </tr>\n",
       "    <tr>\n",
       "      <th>26</th>\n",
       "      <td>67</td>\n",
       "      <td>90</td>\n",
       "      <td>20150520</td>\n",
       "      <td>routine</td>\n",
       "      <td>Adequate</td>\n",
       "    </tr>\n",
       "    <tr>\n",
       "      <th>56</th>\n",
       "      <td>101</td>\n",
       "      <td>90</td>\n",
       "      <td>20170627</td>\n",
       "      <td>routine</td>\n",
       "      <td>Adequate</td>\n",
       "    </tr>\n",
       "    <tr>\n",
       "      <th>64</th>\n",
       "      <td>121</td>\n",
       "      <td>90</td>\n",
       "      <td>20170418</td>\n",
       "      <td>routine</td>\n",
       "      <td>Adequate</td>\n",
       "    </tr>\n",
       "    <tr>\n",
       "      <th>65</th>\n",
       "      <td>125</td>\n",
       "      <td>90</td>\n",
       "      <td>20170719</td>\n",
       "      <td>routine</td>\n",
       "      <td>Adequate</td>\n",
       "    </tr>\n",
       "    <tr>\n",
       "      <th>...</th>\n",
       "      <td>...</td>\n",
       "      <td>...</td>\n",
       "      <td>...</td>\n",
       "      <td>...</td>\n",
       "      <td>...</td>\n",
       "    </tr>\n",
       "    <tr>\n",
       "      <th>14159</th>\n",
       "      <td>92767</td>\n",
       "      <td>90</td>\n",
       "      <td>20180112</td>\n",
       "      <td>routine</td>\n",
       "      <td>Adequate</td>\n",
       "    </tr>\n",
       "    <tr>\n",
       "      <th>14160</th>\n",
       "      <td>92780</td>\n",
       "      <td>90</td>\n",
       "      <td>20171102</td>\n",
       "      <td>routine</td>\n",
       "      <td>Adequate</td>\n",
       "    </tr>\n",
       "    <tr>\n",
       "      <th>14162</th>\n",
       "      <td>92812</td>\n",
       "      <td>90</td>\n",
       "      <td>20171004</td>\n",
       "      <td>routine</td>\n",
       "      <td>Adequate</td>\n",
       "    </tr>\n",
       "    <tr>\n",
       "      <th>14195</th>\n",
       "      <td>93361</td>\n",
       "      <td>90</td>\n",
       "      <td>20171219</td>\n",
       "      <td>routine</td>\n",
       "      <td>Adequate</td>\n",
       "    </tr>\n",
       "    <tr>\n",
       "      <th>14217</th>\n",
       "      <td>94012</td>\n",
       "      <td>90</td>\n",
       "      <td>20180112</td>\n",
       "      <td>routine</td>\n",
       "      <td>Adequate</td>\n",
       "    </tr>\n",
       "  </tbody>\n",
       "</table>\n",
       "<p>982 rows × 5 columns</p>\n",
       "</div>"
      ],
      "text/plain": [
       "       business_id  score      date     type    Rating\n",
       "13              56     90  20160802  routine  Adequate\n",
       "26              67     90  20150520  routine  Adequate\n",
       "56             101     90  20170627  routine  Adequate\n",
       "64             121     90  20170418  routine  Adequate\n",
       "65             125     90  20170719  routine  Adequate\n",
       "...            ...    ...       ...      ...       ...\n",
       "14159        92767     90  20180112  routine  Adequate\n",
       "14160        92780     90  20171102  routine  Adequate\n",
       "14162        92812     90  20171004  routine  Adequate\n",
       "14195        93361     90  20171219  routine  Adequate\n",
       "14217        94012     90  20180112  routine  Adequate\n",
       "\n",
       "[982 rows x 5 columns]"
      ]
     },
     "execution_count": 29,
     "metadata": {},
     "output_type": "execute_result"
    }
   ],
   "source": [
    "# Create a copy of the dataframe from inspections.csv but add a column rating that maps the inspection score to the rating given inlegend.csv.\n",
    "df_inspections_copy=df_inspections.copy()\n",
    "def rating(score):\n",
    "    if 100 >= score >=91:\n",
    "        return 'Good'\n",
    "    elif 90 >= score >=86:\n",
    "        return 'Adequate'\n",
    "    elif 85 >= score >=71:\n",
    "        return 'Needs Improvement'\n",
    "    else:\n",
    "        return 'Poor'\n",
    "    \n",
    "df_inspections_copy['Rating'] = df_inspections_copy['score'].map(rating)\n",
    "df_inspections_copy[df_inspections_copy['score'] == 90] # to check : "
   ]
  },
  {
   "cell_type": "code",
   "execution_count": 30,
   "id": "af91372b",
   "metadata": {},
   "outputs": [
    {
     "data": {
      "text/plain": [
       "2880"
      ]
     },
     "execution_count": 30,
     "metadata": {},
     "output_type": "execute_result"
    }
   ],
   "source": [
    "# How many unique inspection records (rows) resulted in a rating of “Adequate”? [1pt]\n",
    "#df_inspections_copy[df_inspections_copy['Rating']=='Adequate']#.nunique()\n",
    "#adequate=df_inspections_copy[(df_inspections_copy)['Rating']=='Adequate']\n",
    "#unique_adequate=adequate['business_id'].nunique()\n",
    "#unique_adequate\n",
    "#df_inspections_copy.duplicated().sum()\n",
    "len(df_inspections_copy[(df_inspections_copy)['Rating']=='Adequate'])"
   ]
  },
  {
   "cell_type": "code",
   "execution_count": 31,
   "id": "59488962",
   "metadata": {},
   "outputs": [
    {
     "data": {
      "text/plain": [
       "8578"
      ]
     },
     "execution_count": 31,
     "metadata": {},
     "output_type": "execute_result"
    }
   ],
   "source": [
    "# How many unique inspection records resulted in a rating of “Good” or “Poor”? [1pt]\n",
    "len(df_inspections_copy[(df_inspections_copy['Rating']=='Good')|(df_inspections_copy['Rating']=='Poor')])#.nunique()"
   ]
  },
  {
   "cell_type": "code",
   "execution_count": 32,
   "id": "823fb036",
   "metadata": {},
   "outputs": [
    {
     "data": {
      "text/html": [
       "<div>\n",
       "<style scoped>\n",
       "    .dataframe tbody tr th:only-of-type {\n",
       "        vertical-align: middle;\n",
       "    }\n",
       "\n",
       "    .dataframe tbody tr th {\n",
       "        vertical-align: top;\n",
       "    }\n",
       "\n",
       "    .dataframe thead th {\n",
       "        text-align: right;\n",
       "    }\n",
       "</style>\n",
       "<table border=\"1\" class=\"dataframe\">\n",
       "  <thead>\n",
       "    <tr style=\"text-align: right;\">\n",
       "      <th>Rating</th>\n",
       "      <th>business_id</th>\n",
       "      <th>Poor</th>\n",
       "      <th>Needs Improvement</th>\n",
       "      <th>Adequate</th>\n",
       "      <th>Good</th>\n",
       "    </tr>\n",
       "  </thead>\n",
       "  <tbody>\n",
       "    <tr>\n",
       "      <th>0</th>\n",
       "      <td>19</td>\n",
       "      <td>0</td>\n",
       "      <td>0</td>\n",
       "      <td>0</td>\n",
       "      <td>2</td>\n",
       "    </tr>\n",
       "    <tr>\n",
       "      <th>1</th>\n",
       "      <td>24</td>\n",
       "      <td>0</td>\n",
       "      <td>0</td>\n",
       "      <td>0</td>\n",
       "      <td>3</td>\n",
       "    </tr>\n",
       "    <tr>\n",
       "      <th>2</th>\n",
       "      <td>31</td>\n",
       "      <td>0</td>\n",
       "      <td>0</td>\n",
       "      <td>0</td>\n",
       "      <td>1</td>\n",
       "    </tr>\n",
       "    <tr>\n",
       "      <th>3</th>\n",
       "      <td>45</td>\n",
       "      <td>0</td>\n",
       "      <td>3</td>\n",
       "      <td>1</td>\n",
       "      <td>0</td>\n",
       "    </tr>\n",
       "    <tr>\n",
       "      <th>4</th>\n",
       "      <td>48</td>\n",
       "      <td>0</td>\n",
       "      <td>0</td>\n",
       "      <td>0</td>\n",
       "      <td>1</td>\n",
       "    </tr>\n",
       "    <tr>\n",
       "      <th>...</th>\n",
       "      <td>...</td>\n",
       "      <td>...</td>\n",
       "      <td>...</td>\n",
       "      <td>...</td>\n",
       "      <td>...</td>\n",
       "    </tr>\n",
       "    <tr>\n",
       "      <th>5761</th>\n",
       "      <td>94012</td>\n",
       "      <td>0</td>\n",
       "      <td>0</td>\n",
       "      <td>1</td>\n",
       "      <td>1</td>\n",
       "    </tr>\n",
       "    <tr>\n",
       "      <th>5762</th>\n",
       "      <td>94133</td>\n",
       "      <td>0</td>\n",
       "      <td>0</td>\n",
       "      <td>0</td>\n",
       "      <td>1</td>\n",
       "    </tr>\n",
       "    <tr>\n",
       "      <th>5763</th>\n",
       "      <td>94142</td>\n",
       "      <td>0</td>\n",
       "      <td>0</td>\n",
       "      <td>0</td>\n",
       "      <td>1</td>\n",
       "    </tr>\n",
       "    <tr>\n",
       "      <th>5764</th>\n",
       "      <td>94189</td>\n",
       "      <td>0</td>\n",
       "      <td>0</td>\n",
       "      <td>0</td>\n",
       "      <td>1</td>\n",
       "    </tr>\n",
       "    <tr>\n",
       "      <th>5765</th>\n",
       "      <td>94231</td>\n",
       "      <td>0</td>\n",
       "      <td>1</td>\n",
       "      <td>0</td>\n",
       "      <td>0</td>\n",
       "    </tr>\n",
       "  </tbody>\n",
       "</table>\n",
       "<p>5766 rows × 5 columns</p>\n",
       "</div>"
      ],
      "text/plain": [
       "Rating  business_id  Poor  Needs Improvement  Adequate  Good\n",
       "0                19     0                  0         0     2\n",
       "1                24     0                  0         0     3\n",
       "2                31     0                  0         0     1\n",
       "3                45     0                  3         1     0\n",
       "4                48     0                  0         0     1\n",
       "...             ...   ...                ...       ...   ...\n",
       "5761          94012     0                  0         1     1\n",
       "5762          94133     0                  0         0     1\n",
       "5763          94142     0                  0         0     1\n",
       "5764          94189     0                  0         0     1\n",
       "5765          94231     0                  1         0     0\n",
       "\n",
       "[5766 rows x 5 columns]"
      ]
     },
     "execution_count": 32,
     "metadata": {},
     "output_type": "execute_result"
    }
   ],
   "source": [
    "#Generate a table where each row corresponds to a restaurant ID, the columns are the ratings “Poor”, “Needs Improvement”, “Adequate” and“Good”, \n",
    "#and the values are the number of inspection records corresponding to each restaurant-rating combination.\n",
    "\n",
    "new_table=pd.pivot_table(df_inspections_copy, index = 'business_id', columns='Rating',aggfunc='size', fill_value=0).reset_index()\n",
    "new_table_columns = ['business_id','Poor', 'Needs Improvement', 'Adequate', 'Good']\n",
    "new_table = new_table[new_table_columns]\n",
    "new_table\n",
    "#column_order = ['Poor', 'Needs Improvement', 'Adequate', 'Good']\n",
    "#pivot_ratings = pivot_ratings[column_order]"
   ]
  },
  {
   "cell_type": "code",
   "execution_count": 33,
   "id": "e9de3826",
   "metadata": {},
   "outputs": [],
   "source": [
    "#ratings_table = df_inspections_copy.groupby('business_id').agg({'Poor': lambda x: (x=='Poor').sum(), 'Needs Improvement': lambda x: (x == 'Needs Improvement').sum(), 'Adequate': lambda x: (x == 'Adequate').sum(), 'Good': lambda x: (x == 'Good').sum(), fill_value=0)})"
   ]
  },
  {
   "cell_type": "code",
   "execution_count": 34,
   "id": "3abbf8cf",
   "metadata": {},
   "outputs": [],
   "source": [
    "# Output this data as a CSV file and upload it. There should be a header row but no line numbers. [1pt]\n",
    "new_table.to_csv('Assignment-1-Khadka-data.csv', index=False)"
   ]
  },
  {
   "cell_type": "code",
   "execution_count": 35,
   "id": "b2394a82",
   "metadata": {},
   "outputs": [
    {
     "data": {
      "text/plain": [
       "3800"
      ]
     },
     "execution_count": 35,
     "metadata": {},
     "output_type": "execute_result"
    }
   ],
   "source": [
    "# How many restaurants never received a rating below “Adequate”? [1pt]\n",
    "len(new_table[(new_table['Poor'] == 0) & (new_table['Needs Improvement'] == 0)])\n",
    "\n",
    "#new_table.loc[54]"
   ]
  }
 ],
 "metadata": {
  "kernelspec": {
   "display_name": "Python 3 (ipykernel)",
   "language": "python",
   "name": "python3"
  },
  "language_info": {
   "codemirror_mode": {
    "name": "ipython",
    "version": 3
   },
   "file_extension": ".py",
   "mimetype": "text/x-python",
   "name": "python",
   "nbconvert_exporter": "python",
   "pygments_lexer": "ipython3",
   "version": "3.9.16"
  }
 },
 "nbformat": 4,
 "nbformat_minor": 5
}
